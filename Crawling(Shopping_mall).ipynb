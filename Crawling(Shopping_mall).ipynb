{
 "cells": [
  {
   "cell_type": "markdown",
   "metadata": {},
   "source": [
    "# Shopping Mall Crawling\n",
    "* Made by Cheonsol Lee\n",
    "* Updated (20.08.11)"
   ]
  },
  {
   "cell_type": "markdown",
   "metadata": {},
   "source": [
    "## Import\n",
    "- selenium\n",
    "- chrome drvier를 설치해야함"
   ]
  },
  {
   "cell_type": "code",
   "execution_count": 1,
   "metadata": {},
   "outputs": [],
   "source": [
    "import requests\n",
    "from bs4 import BeautifulSoup\n",
    "import pandas as pd\n",
    "import csv\n",
    "import os\n",
    "from selenium import webdriver\n",
    "from selenium.webdriver.common.by import By\n",
    "from selenium.webdriver.support.ui import WebDriverWait\n",
    "from selenium.webdriver.support import expected_conditions as EC"
   ]
  },
  {
   "cell_type": "markdown",
   "metadata": {},
   "source": [
    "### 함수 정의부"
   ]
  },
  {
   "cell_type": "code",
   "execution_count": 52,
   "metadata": {},
   "outputs": [],
   "source": [
    " # 쇼핑몰 종류에 따라 다르게 크롤링\n",
    "def crawling(file_path, site_name, keyword, chromedriver_path):\n",
    "    file_name = file_path + site_name + '_' + keyword + '.csv'\n",
    "    \n",
    "    # Auction은 정적크롤링(BeautifulSoup)\n",
    "    if(site_name == \"Auction\"):\n",
    "        print(\"쇼핑몰 : Auction!\")\n",
    "        res = requests.get('http://browse.auction.co.kr/search?keyword=' + keyword)\n",
    "        soup = BeautifulSoup(res.content, 'html.parser')\n",
    "        items = soup.select(\"div.section--itemcard\")\n",
    "        \n",
    "        title_list = [item.select(\"div.area--itemcard_title span.text--title\")[0].get_text() for item in items]\n",
    "        price_list = [item.select(\"strong.text--price_seller\")[0].get_text() for item in items]\n",
    "        seller_list = [item.select(\"a.link--shop span\")[1].get_text() for item in items]\n",
    "        \n",
    "        df = pd.DataFrame({'title': title_list,'price': price_list, 'seller': seller_list})\n",
    "        df.index.name = 'index'\n",
    "    \n",
    "    # Danawa는 동적크롤링(selenium, BeautifulSoup)\n",
    "    if(site_name == \"Danawa\"):\n",
    "        print(\"쇼핑몰 : Danawa!\")\n",
    "        driver = webdriver.Chrome(chromedriver_path)\n",
    "        driver.get(\"http://search.danawa.com/dsearch.php?query=\" + keyword)\n",
    "        \n",
    "        # 명시적 대기 : 특정 태그가 로드될 때까지 대기\n",
    "        wait = WebDriverWait(driver, 10)\n",
    "        element = wait.until(EC.element_to_be_clickable((By.CLASS_NAME, 'prod_name')))\n",
    "        \n",
    "        html = driver.page_source\n",
    "\n",
    "        soup = BeautifulSoup(html, 'html.parser')\n",
    "        items = soup.select(\"div.main_prodlist li.prod_item\")\n",
    "\n",
    "        title_list = [item.select('p.prod_name a')[0].text for item in items]\n",
    "        price_list = [item.select('p.price_sect a strong')[0].text for item in items]\n",
    "        volume_list = [item.select('p.prod_name a')[0].text.split(\" \")[-1] for item in items]\n",
    "        \n",
    "        df = pd.DataFrame({'title': title_list,'price': price_list, 'volume': volume_list})\n",
    "        df.index.name = 'index'\n",
    "\n",
    "        \n",
    "    if(site_name == \"Amazone\"):\n",
    "        print(\"쇼핑몰 : Amazone!\")\n",
    "        driver = webdriver.Chrome(chromedriver_path)\n",
    "        driver.get(\"https://www.amazon.com/s?k=\" + keyword)\n",
    "\n",
    "        # 명시적 대기 : 특정 태그가 로드될 때까지 대기\n",
    "        wait = WebDriverWait(driver, 10)\n",
    "        element = wait.until(EC.element_to_be_clickable((By.CLASS_NAME, 'nav-input')))\n",
    "\n",
    "        html = driver.page_source\n",
    "\n",
    "        soup = BeautifulSoup(html, 'html.parser')\n",
    "        items = soup.select(\"div.sg-col-inner div.sg-col-inner\")\n",
    "        items = items[ : -1] # 마지막은 상품명이 아님.\n",
    "        \n",
    "        title_list = [item.select('h2 span')[0].text for item in items]\n",
    "        price_list = []\n",
    "        for item in items:\n",
    "            try:\n",
    "                item.select(\"span.a-price span.a-offscreen\")[0].get_text()\n",
    "                price = item.select(\"span.a-price span.a-offscreen\")[0].get_text()\n",
    "                price_list.append(price)\n",
    "            except:\n",
    "                price_list.append(0)\n",
    "        \n",
    "        df = pd.DataFrame({'title': title_list,'price': price_list})\n",
    "        df.index.name = 'index'\n",
    "        \n",
    "        \n",
    "    if(site_name == \"Bol\"):\n",
    "        print(\"쇼핑몰 : Bol!\")\n",
    "        res = requests.get('https://www.bol.com/nl/s/?searchtext=' + keyword)\n",
    "        soup = BeautifulSoup(res.content, 'html.parser')\n",
    "        items = soup.select(\"li.product-item--row.js_item_root\")\n",
    "            \n",
    "        title_list = [item.select(\"div.product-title--inline a\")[0].get_text() for item in items]\n",
    "        price_list = []\n",
    "        for item in items:\n",
    "            tmp = re.split(\"\\n\", item.select(\"div.price-block__price\")[0].text.strip())\n",
    "            price_item = tmp[0] + ',' + tmp[1].strip()\n",
    "            price_list.append(price_item)\n",
    "                \n",
    "        df = pd.DataFrame({'title': title_list,'price': price_list})\n",
    "        df.index.name = 'index'\n",
    "    \n",
    "    \n",
    "    print(\"-----------------------아래는 테이블 구조입니다.-----------------------\")\n",
    "    print(df.head())\n",
    "    print(\"--------------------------------------------------------------------\")\n",
    "    \n",
    "    df.to_csv(file_name, mode = 'w', encoding ='utf-8-sig', index = True, header = True)\n",
    "    print(\"저장되었습니다.파일을 확인해주세요.\")"
   ]
  },
  {
   "cell_type": "markdown",
   "metadata": {},
   "source": [
    "### 사용자정의 입력부\n",
    "- file_path : 저장위치 디렉토리\n",
    "- site_name : 'Aution' or 'Danawa'입력(2개만 가능)\n",
    "- keyword   : 'hemp', 'bean' 등 자유롭게 입력가능\n",
    "- chromedriver_path : 크롬드라이버가 설치된 절대경로"
   ]
  },
  {
   "cell_type": "code",
   "execution_count": 53,
   "metadata": {},
   "outputs": [],
   "source": [
    "# 파일명 형태 : Auction_hemp.csv\n",
    "file_path = 'C:/Users/KSE/JupyterProjects/knowledge_structure/'\n",
    "site_name = 'Bol'\n",
    "keyword = 'hemp'\n",
    "\n",
    "# 크롬드라이버 절대경로\n",
    "chromedriver_path = 'C:/Users/KSE/Desktop/crawling/chromedriver.exe'"
   ]
  },
  {
   "cell_type": "markdown",
   "metadata": {},
   "source": [
    "### 실행부"
   ]
  },
  {
   "cell_type": "code",
   "execution_count": 54,
   "metadata": {
    "scrolled": true
   },
   "outputs": [
    {
     "name": "stdout",
     "output_type": "stream",
     "text": [
      "쇼핑몰 : Bol!\n",
      "-----------------------아래는 테이블 구조입니다.-----------------------\n",
      "                                                   title  price\n",
      "index                                                          \n",
      "0            PuroCuro Hemp/CBD pleisters 64mg (32 stuks)  42,94\n",
      "1          PuroCuro Hemp/CBD pleisters - 16mg (32 stuks)  17,95\n",
      "2      Wiet Grinder Diamondgrind Luxe 4-delige Grinde...  19,95\n",
      "3                      MediHemp CBD Olie raw - 5% - 30ml  72,50\n",
      "4      Hennepvezelstrooisel bodembedekking knaagdier ...  12,62\n",
      "--------------------------------------------------------------------\n",
      "저장되었습니다.파일을 확인해주세요.\n"
     ]
    }
   ],
   "source": [
    "crawling(file_path, site_name, keyword, chromedriver_path)"
   ]
  },
  {
   "cell_type": "code",
   "execution_count": null,
   "metadata": {},
   "outputs": [],
   "source": []
  },
  {
   "cell_type": "code",
   "execution_count": null,
   "metadata": {},
   "outputs": [],
   "source": [
    "class=\"product-item--row js_item_root \""
   ]
  },
  {
   "cell_type": "code",
   "execution_count": 2,
   "metadata": {},
   "outputs": [],
   "source": [
    "keyword = 'hemp'"
   ]
  },
  {
   "cell_type": "code",
   "execution_count": 47,
   "metadata": {},
   "outputs": [],
   "source": [
    "res = requests.get('https://www.bol.com/nl/s/?searchtext=' + keyword)\n",
    "soup = BeautifulSoup(res.content, 'html.parser')\n",
    "items = soup.select(\"li.product-item--row.js_item_root\")\n",
    "        "
   ]
  },
  {
   "cell_type": "code",
   "execution_count": 9,
   "metadata": {},
   "outputs": [
    {
     "data": {
      "text/plain": [
       "24"
      ]
     },
     "execution_count": 9,
     "metadata": {},
     "output_type": "execute_result"
    }
   ],
   "source": [
    "len(items)"
   ]
  },
  {
   "cell_type": "code",
   "execution_count": 40,
   "metadata": {},
   "outputs": [],
   "source": [
    "import re\n",
    "\n",
    "tmp = items[2].select(\"div.price-block__price\")[0].text.strip()\n",
    "tmp1 = re.split(\"\\n\",tmp)"
   ]
  },
  {
   "cell_type": "code",
   "execution_count": 41,
   "metadata": {},
   "outputs": [
    {
     "data": {
      "text/plain": [
       "['19', '  95']"
      ]
     },
     "execution_count": 41,
     "metadata": {},
     "output_type": "execute_result"
    }
   ],
   "source": [
    "tmp1"
   ]
  },
  {
   "cell_type": "code",
   "execution_count": 42,
   "metadata": {},
   "outputs": [
    {
     "data": {
      "text/plain": [
       "'95'"
      ]
     },
     "execution_count": 42,
     "metadata": {},
     "output_type": "execute_result"
    }
   ],
   "source": [
    "tmp1[1].strip()"
   ]
  },
  {
   "cell_type": "code",
   "execution_count": 45,
   "metadata": {},
   "outputs": [],
   "source": [
    "ss = tmp1[0] + ',' + tmp1[1].strip()"
   ]
  },
  {
   "cell_type": "code",
   "execution_count": 50,
   "metadata": {},
   "outputs": [],
   "source": [
    "price_list = []\n",
    "for item in items:\n",
    "    tmp = re.split(\"\\n\", item.select(\"div.price-block__price\")[0].text.strip())\n",
    "    price_item = tmp[0] + ',' + tmp[1].strip()\n",
    "    price_list.append(price_item)\n",
    "    \n",
    "    "
   ]
  },
  {
   "cell_type": "code",
   "execution_count": 51,
   "metadata": {},
   "outputs": [
    {
     "data": {
      "text/plain": [
       "['42,94',\n",
       " '17,95',\n",
       " '19,95',\n",
       " '72,50',\n",
       " '12,62',\n",
       " '50,20',\n",
       " '32,94',\n",
       " '19,99',\n",
       " '13,45',\n",
       " '30,-',\n",
       " '151,50',\n",
       " '11,99',\n",
       " '19,95',\n",
       " '26,88',\n",
       " '5,-',\n",
       " '25,-',\n",
       " '13,45',\n",
       " '25,56',\n",
       " '16,97',\n",
       " '14,95',\n",
       " '18,30',\n",
       " '15,99',\n",
       " '20,89',\n",
       " '7,95']"
      ]
     },
     "execution_count": 51,
     "metadata": {},
     "output_type": "execute_result"
    }
   ],
   "source": [
    "price_list"
   ]
  },
  {
   "cell_type": "code",
   "execution_count": 44,
   "metadata": {},
   "outputs": [
    {
     "data": {
      "text/plain": [
       "'19,95'"
      ]
     },
     "execution_count": 44,
     "metadata": {},
     "output_type": "execute_result"
    }
   ],
   "source": [
    "ss"
   ]
  },
  {
   "cell_type": "code",
   "execution_count": 22,
   "metadata": {},
   "outputs": [],
   "source": [
    "title_list = [item.select(\"div.product-title--inline a\")[0].get_text() for item in items]\n",
    "price_list = []\n",
    "for item in items:\n",
    "    tmp = re.split(\"\\n\", item.select(\"div.price-block__price\")[0].text.strip())\n",
    "    price_item = tmp[0] + ',' + tmp[1].strip()\n",
    "    price_list.append(price_item)\n",
    "# seller_list = [item.select(\"a.link--shop span\")[1].get_text() for item in items]"
   ]
  },
  {
   "cell_type": "code",
   "execution_count": 21,
   "metadata": {},
   "outputs": [
    {
     "data": {
      "text/plain": [
       "['PuroCuro Hemp/CBD pleisters 64mg (32 stuks)',\n",
       " 'PuroCuro Hemp/CBD pleisters - 16mg (32 stuks)',\n",
       " 'Wiet Grinder Diamondgrind Luxe 4-delige Grinder - Aluminium - 40 MM - Crusher - Wietcrusher',\n",
       " 'MediHemp CBD Olie raw - 5% - 30ml',\n",
       " 'Hennepvezelstrooisel bodembedekking knaagdier 4x48 ltr',\n",
       " 'Sesam atlas van de acupunctuur',\n",
       " 'PuroCuro Hemp/CBD pleisters - 32 mg (32 stuks)',\n",
       " 'WeightWorld Hennep Eiwitpoeder Hemp Proteïne - 500g',\n",
       " 'PUUR.SHOP Biologisch mondkapje - maat M - Hemp/Cotton blend Chambray - Wasbaar/herbruikbaar/Verstelbaar met elastiek - Ademend - Trendy face mask - Mondmasker met perfecte pasvorm - Hennep / biokatoen Chambray',\n",
       " 'High Tea Party |Elegant thee/koffie kopje met schotel roze marmer met gouden handvat en gouden hemp. High Tea Party in Wonderland. Alice in wonderland thema. Kopje en schotel set.Tea Coffee Cup & Saucer set',\n",
       " 'MediHemp CBD olie raw - 10% - 30ml',\n",
       " 'Hypoallergenic – Hypoallergene Hemp Seed Great Lashes Regenerist Mascara',\n",
       " 'Hennepolie Huisdieren - Hond & Kat - 100% Natuurlijk Supplement - Gewrichtspijn - Gewrichtssupplement - Gewricht - Spijsvertering - Weerstand - Verlatingsangst - Blaffen - Kalmerend - Ontstekingsremmend - Premium Organic Hemp Oil - 500MG - 30ML',\n",
       " 'Lange Vloei hemp & Tip - Tobacco - Vloeipapier - Smoking vloei - Longpaper - Roze/Goud',\n",
       " 'Cyclones Hemp Cones - Blue',\n",
       " 'NatureCan Hemp Natural Gel',\n",
       " 'PUUR.SHOP Biologisch mondkapje - maat S - Hemp/Cotton blend Chambray - Wasbaar/herbruikbaar/Verstelbaar met elastiek - Ademend - Trendy face mask - Mondmasker met perfecte pasvorm - Hennep / biokatoen Chambray',\n",
       " 'Hempflax Mini Hemp Soft Matras - Bodembedekking - 4 x 40x100 cm',\n",
       " 'Hemp Miracle Oil Nourish Lightweight Treatment 100 ml',\n",
       " 'Woudbloem',\n",
       " 'Shea Moisture Mongongo & Hemp Seed Oils High Porosity Moisture-Seal Shampoo 355 ml',\n",
       " 'Hemp Bound',\n",
       " 'Biologische CBD Olie 5% - 500mg - Natuurlijke Hennep Olie - 10ml <0.2% THC - Tegen Slaapproblemen, Pijn, Stress & Angst - HempHero',\n",
       " 'True Hemp Cat Calming']"
      ]
     },
     "execution_count": 21,
     "metadata": {},
     "output_type": "execute_result"
    }
   ],
   "source": [
    "title_list"
   ]
  },
  {
   "cell_type": "code",
   "execution_count": null,
   "metadata": {},
   "outputs": [],
   "source": []
  }
 ],
 "metadata": {
  "kernelspec": {
   "display_name": "Python 3",
   "language": "python",
   "name": "python3"
  },
  "language_info": {
   "codemirror_mode": {
    "name": "ipython",
    "version": 3
   },
   "file_extension": ".py",
   "mimetype": "text/x-python",
   "name": "python",
   "nbconvert_exporter": "python",
   "pygments_lexer": "ipython3",
   "version": "3.6.10"
  }
 },
 "nbformat": 4,
 "nbformat_minor": 4
}
